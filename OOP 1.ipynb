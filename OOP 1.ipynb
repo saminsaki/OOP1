{
 "cells": [
  {
   "cell_type": "markdown",
   "id": "9cee9b9d-8a3b-4f66-84cb-23efdf4d0d8c",
   "metadata": {
    "collapsed": false
   },
   "source": [
    "## Question 1"
   ]
  },
  {
   "cell_type": "code",
   "execution_count": null,
   "id": "c1e8b4ad-67ca-4ff2-a546-0f3a379f5648",
   "metadata": {
    "collapsed": false
   },
   "outputs": [],
   "source": [
    "class Book:\n",
    "    def __init__(self,title, author, publication_year):\n",
    "        self.title = title\n",
    "        self.author = author\n",
    "        self.publication_year = publication_year\n",
    "    def get_book_info(self):\n",
    "        print(f'Book title is: {self.title}')\n",
    "        print(f'Book author is: {self.author}')\n",
    "        print(f'publication year is: {self.publication_year}')\n",
    "b1 = Book('python', 'meisam', 2020)\n",
    "print(b1.get_book_info())\n",
    "b1.get_book_info()"
   ]
  },
  {
   "cell_type": "markdown",
   "id": "ce71c629-2d02-4f10-b60d-a9bcf5ab979e",
   "metadata": {},
   "source": [
    "## Question 2"
   ]
  },
  {
   "cell_type": "code",
   "execution_count": null,
   "id": "1fe68d0cd7db339f",
   "metadata": {
    "collapsed": false
   },
   "outputs": [],
   "source": [
    "class Calculator:\n",
    "    def __init__(self, num1, num2):\n",
    "        self.num1 = num1\n",
    "        self.num2 = num2\n",
    "    def add(self):\n",
    "        print(self.num1 + self.num2)\n",
    "    def sub(self):\n",
    "        print(self.num1 - self.num2)\n",
    "    def mul(self):\n",
    "        print(self.num1 * self.num2)\n",
    "    def div(self):\n",
    "        try:\n",
    "            print(self.num1 / self.num2)\n",
    "        except ZeroDivisionError as e:\n",
    "            print(e)\n",
    "    \n",
    "obj1 = Calculator(5, 0)\n",
    "obj1.div()"
   ]
  },
  {
   "cell_type": "markdown",
   "id": "40169fc2-a0cc-4744-8b13-a502b276357e",
   "metadata": {},
   "source": [
    "## Question 3"
   ]
  },
  {
   "cell_type": "code",
   "execution_count": null,
   "id": "93b0a9bf-a236-4b61-8e26-f017546f0861",
   "metadata": {},
   "outputs": [],
   "source": [
    "class Counter:\n",
    "    def __init__(self):\n",
    "        self.count = 0\n",
    "    def inc(self):\n",
    "        self.count += 1\n",
    "    def dec(self):\n",
    "        if self.count == 0:\n",
    "            print('can not decrement')\n",
    "        else:\n",
    "            self.count -= 1\n",
    "    def res(self):\n",
    "        self.count = 0\n",
    "    def get_count(self):\n",
    "        return self.count\n",
    "    \n",
    "c1 = Counter()\n",
    "c1.inc()\n",
    "c1.get_count()\n",
    "c1.inc()\n",
    "c1.get_count()\n"
   ]
  },
  {
   "cell_type": "markdown",
   "source": [],
   "metadata": {
    "collapsed": false
   },
   "id": "c4dc5909a6dba768"
  },
  {
   "cell_type": "markdown",
   "id": "07c5d684-19ec-4d0b-9e9d-6b17b34ac442",
   "metadata": {},
   "source": [
    "## Exercise 2"
   ]
  },
  {
   "cell_type": "code",
   "execution_count": 10,
   "id": "6ca44e74-db79-46fb-bdc0-3c293123c203",
   "metadata": {
    "collapsed": false,
    "ExecuteTime": {
     "end_time": "2023-11-30T18:15:08.392386Z",
     "start_time": "2023-11-30T18:15:08.374337Z"
    }
   },
   "outputs": [],
   "source": [
    "class Task:\n",
    "    def __init__(self, id_t, title, status=\"uncompleted\"):\n",
    "        self.id_t = id_t\n",
    "        self.title = title\n",
    "        self.status = status\n",
    "        \n",
    "    def update_status(self, new_status):\n",
    "        self.status = new_status\n",
    "        \n",
    "    def __str__(self):\n",
    "        return f'ID: {int(self.id_t)}, title: {self.title}, status: {self.status}'\n",
    "    "
   ]
  },
  {
   "cell_type": "code",
   "execution_count": 15,
   "id": "66ab3bb8-04a0-4f1c-8ffe-4524d002742c",
   "metadata": {
    "collapsed": false,
    "ExecuteTime": {
     "end_time": "2023-11-30T18:16:37.593758Z",
     "start_time": "2023-11-30T18:16:37.584512300Z"
    }
   },
   "outputs": [],
   "source": [
    "class Todolist:\n",
    "    def __init__(self):\n",
    "        self.tasks = {}\n",
    "    def adding(self, task):\n",
    "        if task.id_t not in self.tasks:\n",
    "            self.tasks[task.id_t] = task\n",
    "            print('taks is added!')\n",
    "        else:\n",
    "            print('task exists')\n",
    "            \n",
    "    def removing(self, taskid):\n",
    "        if taskid in self.tasks:\n",
    "            del self.tasks[taskid]\n",
    "            print(f'Task with ID: {taskid} removed!')\n",
    "        else:\n",
    "            print(f'task with id: {taskid} not found!')\n",
    "    def display_tasks(self):\n",
    "        for task in self.tasks.values():\n",
    "            print(task)\n",
    "            "
   ]
  },
  {
   "cell_type": "code",
   "execution_count": 16,
   "id": "d7f71406-d943-41e7-8f21-ea2b08614dfe",
   "metadata": {
    "collapsed": false,
    "ExecuteTime": {
     "end_time": "2023-11-30T18:16:37.820299800Z",
     "start_time": "2023-11-30T18:16:37.802379200Z"
    }
   },
   "outputs": [
    {
     "name": "stdout",
     "output_type": "stream",
     "text": [
      "taks is added!\n",
      "taks is added!\n",
      "ID: 1, title: study python, status: completed\n",
      "ID: 2, title: learn English, status: uncompleted\n",
      "ID: 1, title: study python, status: completed\n",
      "ID: 2, title: learn English, status: completed\n",
      "Task with ID: 1 removed!\n",
      "ID: 2, title: learn English, status: completed\n"
     ]
    }
   ],
   "source": [
    "task1 = Task(1, 'study python')\n",
    "task2 = Task(2, 'learn English')\n",
    "\n",
    "mytodolist = Todolist()\n",
    "mytodolist.adding(task1)\n",
    "mytodolist.adding(task2)\n",
    "task1.update_status('completed')\n",
    "mytodolist.display_tasks()\n",
    "task2.update_status('completed')\n",
    "mytodolist.display_tasks()\n",
    "mytodolist.removing(1)\n",
    "mytodolist.display_tasks()"
   ]
  },
  {
   "cell_type": "code",
   "execution_count": null,
   "id": "3a40d7852056b5a4",
   "metadata": {
    "collapsed": false
   },
   "outputs": [],
   "source": []
  }
 ],
 "metadata": {
  "kernelspec": {
   "display_name": "Python 3 (ipykernel)",
   "language": "python",
   "name": "python3"
  },
  "language_info": {
   "codemirror_mode": {
    "name": "ipython",
    "version": 3
   },
   "file_extension": ".py",
   "mimetype": "text/x-python",
   "name": "python",
   "nbconvert_exporter": "python",
   "pygments_lexer": "ipython3",
   "version": "3.11.5"
  }
 },
 "nbformat": 4,
 "nbformat_minor": 5
}
